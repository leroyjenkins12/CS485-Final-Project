{
  "cells": [
    {
      "cell_type": "markdown",
      "source": [
        "# Imports"
      ],
      "metadata": {
        "id": "OhPgJSGfjQiH"
      }
    },
    {
      "cell_type": "code",
      "execution_count": 115,
      "metadata": {
        "id": "uPMbUXtVDwFC"
      },
      "outputs": [],
      "source": [
        "# standard imports\n",
        "import numpy as np\n",
        "import tensorflow as tf\n",
        "import pandas as pd\n",
        "from tensorflow.keras.models import Sequential\n",
        "from tensorflow.keras.layers import Dense, Embedding, Flatten,\n",
        "from tensorflow.keras.layers import Dropout, LSTM, SimpleRNN\n",
        "from tensorflow.keras.layers import TextVectorization\n",
        "from tensorflow.keras.callbacks import EarlyStopping\n",
        "from keras import regularizers\n",
        "import csv\n",
        "from keras import preprocessing\n",
        "from keras.preprocessing.text import Tokenizer\n",
        "from keras.preprocessing.sequence import pad_sequences\n",
        "from keras.layers import Embedding\n"
      ]
    },
    {
      "cell_type": "markdown",
      "source": [
        "# Importing and Processing the Data"
      ],
      "metadata": {
        "id": "22sUTmKpjUm1"
      }
    },
    {
      "cell_type": "code",
      "execution_count": 116,
      "metadata": {
        "colab": {
          "base_uri": "https://localhost:8080/"
        },
        "id": "iWX4BWNCkLKh",
        "outputId": "15cccf7d-780b-43b3-a3ec-c5762385eed8"
      },
      "outputs": [
        {
          "output_type": "stream",
          "name": "stdout",
          "text": [
            "Drive already mounted at /content/drive; to attempt to forcibly remount, call drive.mount(\"/content/drive\", force_remount=True).\n"
          ]
        }
      ],
      "source": [
        "# connecting drive\n",
        "from google.colab import drive\n",
        "drive.mount('/content/drive')"
      ]
    },
    {
      "cell_type": "code",
      "execution_count": 117,
      "metadata": {
        "colab": {
          "base_uri": "https://localhost:8080/"
        },
        "id": "yZdLzegVl051",
        "outputId": "d95cbe83-820c-426c-b0bd-0b0baad05aa8"
      },
      "outputs": [
        {
          "output_type": "stream",
          "name": "stdout",
          "text": [
            "       Label                                              Text\n",
            "0          1                      And welcome merry Shrovetide\n",
            "1          1         would he knew that  had saved his brother\n",
            "2          1                Or any he the proudest of thy sort\n",
            "3          0  Hadst thou the same free will and power to stand\n",
            "4          0                  For he confounds hell in Elysium\n",
            "...      ...                                               ...\n",
            "44574      1   Which our profane hours here have stricken down\n",
            "44575      1                   Presuming on an agues privilege\n",
            "44576      0            Eden and all the coast in prospect lay\n",
            "44577      0            Rose like an exhalation with the sound\n",
            "44578      0         Safest and seemliest by her husband stays\n",
            "\n",
            "[44579 rows x 2 columns]\n"
          ]
        }
      ],
      "source": [
        "#Load the data\n",
        "training = pd.read_csv('/content/drive/MyDrive/CS485_Shuffled_Shakespeare.csv')\n",
        "print(training)"
      ]
    },
    {
      "cell_type": "code",
      "execution_count": 119,
      "metadata": {
        "id": "7vykneNerPSL",
        "colab": {
          "base_uri": "https://localhost:8080/"
        },
        "outputId": "6112b664-b63e-4484-db54-c5662d0c3207"
      },
      "outputs": [
        {
          "output_type": "stream",
          "name": "stdout",
          "text": [
            "0                            And welcome merry Shrovetide\n",
            "1               would he knew that  had saved his brother\n",
            "2                      Or any he the proudest of thy sort\n",
            "3        Hadst thou the same free will and power to stand\n",
            "4                        For he confounds hell in Elysium\n",
            "                               ...                       \n",
            "44574     Which our profane hours here have stricken down\n",
            "44575                     Presuming on an agues privilege\n",
            "44576              Eden and all the coast in prospect lay\n",
            "44577              Rose like an exhalation with the sound\n",
            "44578           Safest and seemliest by her husband stays\n",
            "Name: Text, Length: 44579, dtype: object\n",
            "0        1\n",
            "1        1\n",
            "2        1\n",
            "3        0\n",
            "4        0\n",
            "        ..\n",
            "44574    1\n",
            "44575    1\n",
            "44576    0\n",
            "44577    0\n",
            "44578    0\n",
            "Name: Label, Length: 44579, dtype: int64\n"
          ]
        }
      ],
      "source": [
        "# Setting the data and labels\n",
        "x_train = training.pop(\"Text\")\n",
        "y_train = training.pop(\"Label\")\n",
        "print(x_train)\n",
        "print(y_train)"
      ]
    },
    {
      "cell_type": "code",
      "execution_count": 120,
      "metadata": {
        "id": "CeyE5PHEtd2v"
      },
      "outputs": [],
      "source": [
        "#Preprocessing and tokenizing\n",
        "#https://medium.com/swlh/sentiment-analysis-using-word-embeddings-with-tensorflow-ab8eab7641a4\n",
        "vocab_size=10000\n",
        "embedding_dim=4\n",
        "max_length=50\n",
        "trunc_type=\"post\"\n",
        "oov_token=\"<OOV>\"\n",
        "\n",
        "\n",
        "tokenizer = Tokenizer(num_words=vocab_size, oov_token=oov_token)\n",
        "tokenizer.fit_on_texts(x_train)\n",
        "x_train = tokenizer.texts_to_sequences(x_train)\n",
        "x_train = pad_sequences(x_train, maxlen=max_length, truncating=trunc_type)\n"
      ]
    },
    {
      "cell_type": "markdown",
      "source": [
        "# The SimpleRNN Model\n"
      ],
      "metadata": {
        "id": "K_XKqK_ii48L"
      }
    },
    {
      "cell_type": "code",
      "source": [
        "\n",
        "modelrnn = Sequential([\n",
        "    Embedding(vocab_size, embedding_dim, input_length=max_length),\n",
        "    SimpleRNN(16, return_sequences=True, recurrent_dropout = 0.2),\n",
        "    Dropout(0.3),\n",
        "    SimpleRNN(32, return_sequences=True, recurrent_dropout = 0.2),\n",
        "    Dropout(0.3),\n",
        "    SimpleRNN(16, recurrent_dropout = 0.2),\n",
        "    Dense(32, activation='relu'),\n",
        "    Dense(1, activation='sigmoid')\n",
        "])\n",
        "modelrnn.compile(loss='binary_crossentropy', optimizer='adam', metrics=['accuracy'])\n",
        "modelrnn.summary()"
      ],
      "metadata": {
        "colab": {
          "base_uri": "https://localhost:8080/"
        },
        "id": "gcoLZXm6dewr",
        "outputId": "8445e64b-2b64-4d2b-bb99-7a1ba127c85c"
      },
      "execution_count": 121,
      "outputs": [
        {
          "output_type": "stream",
          "name": "stdout",
          "text": [
            "Model: \"sequential_4\"\n",
            "_________________________________________________________________\n",
            " Layer (type)                Output Shape              Param #   \n",
            "=================================================================\n",
            " embedding_4 (Embedding)     (None, 50, 4)             40000     \n",
            "                                                                 \n",
            " simple_rnn (SimpleRNN)      (None, 50, 16)            336       \n",
            "                                                                 \n",
            " dropout_8 (Dropout)         (None, 50, 16)            0         \n",
            "                                                                 \n",
            " simple_rnn_1 (SimpleRNN)    (None, 50, 32)            1568      \n",
            "                                                                 \n",
            " dropout_9 (Dropout)         (None, 50, 32)            0         \n",
            "                                                                 \n",
            " simple_rnn_2 (SimpleRNN)    (None, 16)                784       \n",
            "                                                                 \n",
            " dense_8 (Dense)             (None, 32)                544       \n",
            "                                                                 \n",
            " dense_9 (Dense)             (None, 1)                 33        \n",
            "                                                                 \n",
            "=================================================================\n",
            "Total params: 43,265\n",
            "Trainable params: 43,265\n",
            "Non-trainable params: 0\n",
            "_________________________________________________________________\n"
          ]
        }
      ]
    },
    {
      "cell_type": "code",
      "source": [
        "num_epochs=50\n",
        "history=modelrnn.fit(x_train, y_train, epochs=num_epochs, validation_split = 0.2, \n",
        "                  callbacks = [EarlyStopping(min_delta = .01, patience = 10, monitor = 'val_accuracy', verbose = 1, restore_best_weights = True)])"
      ],
      "metadata": {
        "colab": {
          "base_uri": "https://localhost:8080/"
        },
        "id": "8Q0-2NhNdzM_",
        "outputId": "3fe10a50-78f0-41ff-acb9-4455affddf2b"
      },
      "execution_count": 122,
      "outputs": [
        {
          "output_type": "stream",
          "name": "stdout",
          "text": [
            "Epoch 1/50\n",
            "1115/1115 [==============================] - 48s 40ms/step - loss: 0.6412 - accuracy: 0.6625 - val_loss: 0.6341 - val_accuracy: 0.6699\n",
            "Epoch 2/50\n",
            "1115/1115 [==============================] - 44s 39ms/step - loss: 0.5244 - accuracy: 0.7441 - val_loss: 0.4174 - val_accuracy: 0.8189\n",
            "Epoch 3/50\n",
            "1115/1115 [==============================] - 42s 38ms/step - loss: 0.3360 - accuracy: 0.8627 - val_loss: 0.3859 - val_accuracy: 0.8483\n",
            "Epoch 4/50\n",
            "1115/1115 [==============================] - 43s 39ms/step - loss: 0.2770 - accuracy: 0.8920 - val_loss: 0.3792 - val_accuracy: 0.8513\n",
            "Epoch 5/50\n",
            "1115/1115 [==============================] - 44s 39ms/step - loss: 0.2472 - accuracy: 0.9061 - val_loss: 0.3956 - val_accuracy: 0.8386\n",
            "Epoch 6/50\n",
            "1115/1115 [==============================] - 43s 39ms/step - loss: 0.2241 - accuracy: 0.9165 - val_loss: 0.3701 - val_accuracy: 0.8533\n",
            "Epoch 7/50\n",
            "1115/1115 [==============================] - 42s 38ms/step - loss: 0.2023 - accuracy: 0.9239 - val_loss: 0.4472 - val_accuracy: 0.8525\n",
            "Epoch 8/50\n",
            "1115/1115 [==============================] - 42s 38ms/step - loss: 0.1869 - accuracy: 0.9326 - val_loss: 0.4409 - val_accuracy: 0.8450\n",
            "Epoch 9/50\n",
            "1115/1115 [==============================] - 43s 38ms/step - loss: 0.1723 - accuracy: 0.9382 - val_loss: 0.4552 - val_accuracy: 0.8411\n",
            "Epoch 10/50\n",
            "1115/1115 [==============================] - 43s 38ms/step - loss: 0.1627 - accuracy: 0.9427 - val_loss: 0.4744 - val_accuracy: 0.8452\n",
            "Epoch 11/50\n",
            "1115/1115 [==============================] - 43s 38ms/step - loss: 0.1555 - accuracy: 0.9441 - val_loss: 0.4704 - val_accuracy: 0.8358\n",
            "Epoch 12/50\n",
            "1115/1115 [==============================] - 43s 38ms/step - loss: 0.1503 - accuracy: 0.9462 - val_loss: 0.4923 - val_accuracy: 0.8410\n",
            "Epoch 13/50\n",
            "1115/1115 [==============================] - ETA: 0s - loss: 0.1442 - accuracy: 0.9496Restoring model weights from the end of the best epoch: 3.\n",
            "1115/1115 [==============================] - 42s 38ms/step - loss: 0.1442 - accuracy: 0.9496 - val_loss: 0.4868 - val_accuracy: 0.8386\n",
            "Epoch 13: early stopping\n"
          ]
        }
      ]
    },
    {
      "cell_type": "code",
      "execution_count": 123,
      "metadata": {
        "id": "VGVoanpL3WAq",
        "colab": {
          "base_uri": "https://localhost:8080/",
          "height": 545
        },
        "outputId": "20cff17f-5a99-44c3-c97c-eec02d2c60c1"
      },
      "outputs": [
        {
          "output_type": "display_data",
          "data": {
            "text/plain": [
              "<Figure size 432x288 with 1 Axes>"
            ],
            "image/png": "[encoded data removed]"
          },
          "metadata": {
            "needs_background": "light"
          }
        },
        {
          "output_type": "display_data",
          "data": {
            "text/plain": [
              "<Figure size 432x288 with 1 Axes>"
            ],
            "image/png": "[encoded data removed]"
          },
          "metadata": {
            "needs_background": "light"
          }
        }
      ],
      "source": [
        "# plot results\n",
        "import matplotlib.pyplot as plt\n",
        "\n",
        "acc = history.history['accuracy']\n",
        "val_acc = history.history['val_accuracy']\n",
        "loss = history.history['loss']\n",
        "val_loss = history.history['val_loss']\n",
        "\n",
        "epochs = range(len(acc))\n",
        "\n",
        "plt.plot(epochs, acc, 'r', label='Training Acc.')\n",
        "plt.plot(epochs, val_acc, 'b', label='Validation Acc.')\n",
        "plt.title('Training vs. Validation Acc.')\n",
        "\n",
        "plt.figure()\n",
        "\n",
        "plt.plot(epochs, loss, 'r', label='Training Loss')\n",
        "plt.plot(epochs, val_loss, 'b', label='Validation Loss')\n",
        "plt.title('Training vs Validation Loss')\n",
        "plt.legend()\n",
        "\n",
        "plt.show()"
      ]
    },
    {
      "cell_type": "markdown",
      "source": [
        "# The GRU Model"
      ],
      "metadata": {
        "id": "GpC2WeMyi_ej"
      }
    },
    {
      "cell_type": "code",
      "execution_count": 124,
      "metadata": {
        "id": "RXWOOMiQvlUz",
        "colab": {
          "base_uri": "https://localhost:8080/"
        },
        "outputId": "e626ccd7-60c9-4903-b918-5a0021d4ac7e"
      },
      "outputs": [
        {
          "output_type": "stream",
          "name": "stdout",
          "text": [
            "Model: \"sequential_5\"\n",
            "_________________________________________________________________\n",
            " Layer (type)                Output Shape              Param #   \n",
            "=================================================================\n",
            " embedding_5 (Embedding)     (None, 50, 4)             40000     \n",
            "                                                                 \n",
            " gru_12 (GRU)                (None, 50, 32)            3648      \n",
            "                                                                 \n",
            " dropout_10 (Dropout)        (None, 50, 32)            0         \n",
            "                                                                 \n",
            " gru_13 (GRU)                (None, 50, 32)            6336      \n",
            "                                                                 \n",
            " dropout_11 (Dropout)        (None, 50, 32)            0         \n",
            "                                                                 \n",
            " gru_14 (GRU)                (None, 32)                6336      \n",
            "                                                                 \n",
            " dense_10 (Dense)            (None, 32)                1056      \n",
            "                                                                 \n",
            " dense_11 (Dense)            (None, 1)                 33        \n",
            "                                                                 \n",
            "=================================================================\n",
            "Total params: 57,409\n",
            "Trainable params: 57,409\n",
            "Non-trainable params: 0\n",
            "_________________________________________________________________\n"
          ]
        }
      ],
      "source": [
        "from keras.layers.recurrent_v2 import GRU\n",
        "modelgru = Sequential([\n",
        "    Embedding(vocab_size, embedding_dim, input_length=max_length),\n",
        "    GRU(32, return_sequences=True, recurrent_dropout = 0.3, recurrent_regularizer=regularizers.l1_l2(0.05, 0.05)),\n",
        "    Dropout(0.4),\n",
        "    GRU(32, return_sequences=True, recurrent_dropout = 0.3, recurrent_regularizer=regularizers.l1_l2(0.05, 0.05)),\n",
        "    Dropout(0.4),\n",
        "    GRU(32),\n",
        "    Dense(32, activation='relu'),\n",
        "    Dense(1, activation='sigmoid')\n",
        "])\n",
        "modelgru.compile(loss='binary_crossentropy', optimizer='adam', metrics=['accuracy'])\n",
        "modelgru.summary()"
      ]
    },
    {
      "cell_type": "code",
      "execution_count": 125,
      "metadata": {
        "id": "biz8OCpiv82a",
        "colab": {
          "base_uri": "https://localhost:8080/"
        },
        "outputId": "559ce289-ca5a-4d63-e859-09938a45fb7a"
      },
      "outputs": [
        {
          "output_type": "stream",
          "name": "stdout",
          "text": [
            "Epoch 1/50\n",
            "1115/1115 [==============================] - 120s 102ms/step - loss: 2.1471 - accuracy: 0.7891 - val_loss: 0.4020 - val_accuracy: 0.8401\n",
            "Epoch 2/50\n",
            "1115/1115 [==============================] - 113s 102ms/step - loss: 0.3291 - accuracy: 0.8801 - val_loss: 0.3748 - val_accuracy: 0.8554\n",
            "Epoch 3/50\n",
            "1115/1115 [==============================] - 113s 102ms/step - loss: 0.2867 - accuracy: 0.8993 - val_loss: 0.3926 - val_accuracy: 0.8526\n",
            "Epoch 4/50\n",
            "1115/1115 [==============================] - 113s 101ms/step - loss: 0.2645 - accuracy: 0.9101 - val_loss: 0.3816 - val_accuracy: 0.8507\n",
            "Epoch 5/50\n",
            "1115/1115 [==============================] - 114s 102ms/step - loss: 0.2512 - accuracy: 0.9146 - val_loss: 0.4210 - val_accuracy: 0.8489\n",
            "Epoch 6/50\n",
            "1115/1115 [==============================] - 113s 101ms/step - loss: 0.2385 - accuracy: 0.9189 - val_loss: 0.4338 - val_accuracy: 0.8468\n",
            "Epoch 7/50\n",
            "1115/1115 [==============================] - 113s 101ms/step - loss: 0.2317 - accuracy: 0.9219 - val_loss: 0.4369 - val_accuracy: 0.8420\n",
            "Epoch 8/50\n",
            "1115/1115 [==============================] - 121s 109ms/step - loss: 0.2251 - accuracy: 0.9235 - val_loss: 0.4312 - val_accuracy: 0.8442\n",
            "Epoch 9/50\n",
            "1115/1115 [==============================] - 128s 115ms/step - loss: 0.2217 - accuracy: 0.9238 - val_loss: 0.5037 - val_accuracy: 0.8410\n",
            "Epoch 10/50\n",
            "1115/1115 [==============================] - 113s 101ms/step - loss: 0.2184 - accuracy: 0.9270 - val_loss: 0.4639 - val_accuracy: 0.8403\n",
            "Epoch 11/50\n",
            "1115/1115 [==============================] - 112s 101ms/step - loss: 0.2118 - accuracy: 0.9291 - val_loss: 0.5070 - val_accuracy: 0.8426\n",
            "Epoch 12/50\n",
            "1115/1115 [==============================] - ETA: 0s - loss: 0.2095 - accuracy: 0.9301Restoring model weights from the end of the best epoch: 2.\n",
            "1115/1115 [==============================] - 112s 101ms/step - loss: 0.2095 - accuracy: 0.9301 - val_loss: 0.5171 - val_accuracy: 0.8384\n",
            "Epoch 12: early stopping\n"
          ]
        }
      ],
      "source": [
        "num_epochs=50\n",
        "historygru=modelgru.fit(x_train, y_train, epochs=num_epochs, validation_split = 0.2, \n",
        "                  callbacks = [EarlyStopping(min_delta = .01, patience = 10, monitor = 'val_accuracy', verbose = 1, restore_best_weights = True)])"
      ]
    },
    {
      "cell_type": "markdown",
      "source": [
        "Prediction Time"
      ],
      "metadata": {
        "id": "KXvAuCm_RHJ5"
      }
    },
    {
      "cell_type": "code",
      "source": [
        "# plot results\n",
        "import matplotlib.pyplot as plt\n",
        "\n",
        "acc = history.history['accuracy']\n",
        "val_acc = history.history['val_accuracy']\n",
        "loss = history.history['loss']\n",
        "val_loss = history.history['val_loss']\n",
        "\n",
        "epochs = range(len(acc))\n",
        "\n",
        "plt.plot(epochs, acc, 'r', label='Training Acc.')\n",
        "plt.plot(epochs, val_acc, 'b', label='Validation Acc.')\n",
        "plt.title('Training vs. Validation Acc.')\n",
        "\n",
        "plt.figure()\n",
        "\n",
        "plt.plot(epochs, loss, 'r', label='Training Loss')\n",
        "plt.plot(epochs, val_loss, 'b', label='Validation Loss')\n",
        "plt.title('Training vs Validation Loss')\n",
        "plt.legend()\n",
        "\n",
        "plt.show()"
      ],
      "metadata": {
        "colab": {
          "base_uri": "https://localhost:8080/",
          "height": 545
        },
        "id": "Ouhu5Sz9eKkU",
        "outputId": "2fca7231-0884-4558-e7ce-a62af4048258"
      },
      "execution_count": 126,
      "outputs": [
        {
          "output_type": "display_data",
          "data": {
            "text/plain": [
              "<Figure size 432x288 with 1 Axes>"
            ],
            "image/png": "[encoded data removed]"
          },
          "metadata": {
            "needs_background": "light"
          }
        },
        {
          "output_type": "display_data",
          "data": {
            "text/plain": [
              "<Figure size 432x288 with 1 Axes>"
            ],
            "image/png": "[encoded data removed]"
          },
          "metadata": {
            "needs_background": "light"
          }
        }
      ]
    },
    {
      "cell_type": "markdown",
      "source": [
        "# Generating Predictions\n"
      ],
      "metadata": {
        "id": "4lls__3ljC8N"
      }
    },
    {
      "cell_type": "code",
      "execution_count": 127,
      "metadata": {
        "id": "075hxOkk4RJa"
      },
      "outputs": [],
      "source": [
        "#Scene 1\n",
        "scene1 = pd.read_csv('/content/drive/MyDrive/CS485/Project/CS485_Edward3_1.csv')\n",
        "tokenizer.fit_on_texts(scene1)\n",
        "scene1 = tokenizer.texts_to_sequences(scene1)\n",
        "scene1 = pad_sequences(scene1, maxlen=max_length, truncating=trunc_type)\n",
        "\n",
        "out1rnn = modelrnn.predict(scene1)\n",
        "val1rnn = np.average(out1rnn)\n",
        "out1gru = modelgru.predict(scene1)\n",
        "val1gru = np.average(out1gru)"
      ]
    },
    {
      "cell_type": "code",
      "source": [
        "#Scene 2\n",
        "scene2 = pd.read_csv('/content/drive/MyDrive/CS485/Project/CS485_Edward3_2.csv')\n",
        "tokenizer.fit_on_texts(scene2)\n",
        "scene2 = tokenizer.texts_to_sequences(scene2)\n",
        "scene2 = pad_sequences(scene2, maxlen=max_length, truncating=trunc_type)\n",
        "\n",
        "out2rnn = modelrnn.predict(scene2)\n",
        "val2rnn = np.average(out2rnn)\n",
        "out2gru = modelgru.predict(scene2)\n",
        "val2gru = np.average(out2gru)"
      ],
      "metadata": {
        "id": "d-ogIsEaTAMf"
      },
      "execution_count": 128,
      "outputs": []
    },
    {
      "cell_type": "code",
      "source": [
        "#Scene 3\n",
        "scene3 = pd.read_csv('/content/drive/MyDrive/CS485/Project/CS485_Edward3_3.csv')\n",
        "tokenizer.fit_on_texts(scene3)\n",
        "scene3 = tokenizer.texts_to_sequences(scene3)\n",
        "scene3 = pad_sequences(scene3, maxlen=max_length, truncating=trunc_type)\n",
        "\n",
        "out3rnn = modelrnn.predict(scene3)\n",
        "val3rnn = np.average(out3rnn)\n",
        "out3gru = modelgru.predict(scene3)\n",
        "val3gru = np.average(out3gru)"
      ],
      "metadata": {
        "id": "m9CYgd71TBR2"
      },
      "execution_count": 129,
      "outputs": []
    },
    {
      "cell_type": "code",
      "source": [
        "#Scene 4\n",
        "scene4 = pd.read_csv('/content/drive/MyDrive/CS485/Project/CS485_Edward3_4.csv')\n",
        "tokenizer.fit_on_texts(scene4)\n",
        "scene4 = tokenizer.texts_to_sequences(scene4)\n",
        "scene4 = pad_sequences(scene4, maxlen=max_length, truncating=trunc_type)\n",
        "\n",
        "out4rnn = modelrnn.predict(scene4)\n",
        "val4rnn = np.average(out4rnn)\n",
        "out4gru = modelgru.predict(scene4)\n",
        "val4gru = np.average(out4gru)"
      ],
      "metadata": {
        "id": "S7mz4hGvTQkK"
      },
      "execution_count": 130,
      "outputs": []
    },
    {
      "cell_type": "code",
      "source": [
        "#Scene 5\n",
        "scene5 = pd.read_csv('/content/drive/MyDrive/CS485/Project/CS485_Edward3_5.csv')\n",
        "tokenizer.fit_on_texts(scene5)\n",
        "scene5 = tokenizer.texts_to_sequences(scene5)\n",
        "scene5 = pad_sequences(scene5, maxlen=max_length, truncating=trunc_type)\n",
        "\n",
        "out5rnn = modelrnn.predict(scene5)\n",
        "val5rnn = np.average(out5rnn)\n",
        "out5gru = modelgru.predict(scene5)\n",
        "val5gru = np.average(out5gru)"
      ],
      "metadata": {
        "id": "CI_MbdpCmGtU"
      },
      "execution_count": 131,
      "outputs": []
    },
    {
      "cell_type": "code",
      "source": [
        "#Scene 6\n",
        "scene6 = pd.read_csv('/content/drive/MyDrive/CS485/Project/CS485_Edward3_6.csv')\n",
        "tokenizer.fit_on_texts(scene6)\n",
        "scene6 = tokenizer.texts_to_sequences(scene6)\n",
        "scene6 = pad_sequences(scene6, maxlen=max_length, truncating=trunc_type)\n",
        "\n",
        "out6rnn = modelrnn.predict(scene6)\n",
        "val6rnn = np.average(out6rnn)\n",
        "out6gru = modelgru.predict(scene6)\n",
        "val6gru = np.average(out6gru)"
      ],
      "metadata": {
        "id": "vl0KCj-LmMvY"
      },
      "execution_count": 132,
      "outputs": []
    },
    {
      "cell_type": "code",
      "source": [
        "#Scene 7\n",
        "scene7 = pd.read_csv('/content/drive/MyDrive/CS485/Project/CS485_Edward3_7.csv')\n",
        "tokenizer.fit_on_texts(scene7)\n",
        "scene7 = tokenizer.texts_to_sequences(scene7)\n",
        "scene7 = pad_sequences(scene7, maxlen=max_length, truncating=trunc_type)\n",
        "\n",
        "out7rnn = modelrnn.predict(scene7)\n",
        "val7rnn = np.average(out7rnn)\n",
        "out7gru = modelgru.predict(scene7)\n",
        "val7gru = np.average(out7gru)"
      ],
      "metadata": {
        "id": "s8W5DKtpmWAL"
      },
      "execution_count": 133,
      "outputs": []
    },
    {
      "cell_type": "code",
      "source": [
        "#Scene 8\n",
        "scene8 = pd.read_csv('/content/drive/MyDrive/CS485/Project/CS485_Edward3_8.csv')\n",
        "tokenizer.fit_on_texts(scene8)\n",
        "scene8 = tokenizer.texts_to_sequences(scene8)\n",
        "scene8 = pad_sequences(scene8, maxlen=max_length, truncating=trunc_type)\n",
        "\n",
        "out8rnn = modelrnn.predict(scene8)\n",
        "val8rnn = np.average(out8rnn)\n",
        "out8gru = modelgru.predict(scene8)\n",
        "val8gru = np.average(out8gru)"
      ],
      "metadata": {
        "id": "rcN_6oQPmbgU"
      },
      "execution_count": 134,
      "outputs": []
    },
    {
      "cell_type": "code",
      "source": [
        "#Scene 9\n",
        "scene9 = pd.read_csv('/content/drive/MyDrive/CS485/Project/CS485_Edward3_9.csv')\n",
        "tokenizer.fit_on_texts(scene9)\n",
        "scene9 = tokenizer.texts_to_sequences(scene9)\n",
        "scene9 = pad_sequences(scene9, maxlen=max_length, truncating=trunc_type)\n",
        "\n",
        "out9rnn = modelrnn.predict(scene9)\n",
        "val9rnn = np.average(out9rnn)\n",
        "out9gru = modelgru.predict(scene9)\n",
        "val9gru = np.average(out9gru)"
      ],
      "metadata": {
        "id": "i74wfdtenLzU"
      },
      "execution_count": 135,
      "outputs": []
    },
    {
      "cell_type": "code",
      "source": [
        "#Scene 10\n",
        "scene10 = pd.read_csv('/content/drive/MyDrive/CS485/Project/CS485_Edward3_10.csv')\n",
        "tokenizer.fit_on_texts(scene10)\n",
        "scene10 = tokenizer.texts_to_sequences(scene10)\n",
        "scene10 = pad_sequences(scene10, maxlen=max_length, truncating=trunc_type)\n",
        "\n",
        "out10rnn = modelrnn.predict(scene10)\n",
        "val10rnn = np.average(out10rnn)\n",
        "out10gru = modelgru.predict(scene10)\n",
        "val10gru = np.average(out10gru)"
      ],
      "metadata": {
        "id": "P8rHdSs_nTOQ"
      },
      "execution_count": 136,
      "outputs": []
    },
    {
      "cell_type": "code",
      "source": [
        "#Scene 11\n",
        "scene11 = pd.read_csv('/content/drive/MyDrive/CS485/Project/CS485_Edward3_11.csv')\n",
        "tokenizer.fit_on_texts(scene11)\n",
        "scene11 = tokenizer.texts_to_sequences(scene11)\n",
        "scene11 = pad_sequences(scene11, maxlen=max_length, truncating=trunc_type)\n",
        "\n",
        "out11rnn = modelrnn.predict(scene11)\n",
        "val11rnn = np.average(out11rnn)\n",
        "out11gru = modelgru.predict(scene11)\n",
        "val11gru = np.average(out11gru)"
      ],
      "metadata": {
        "id": "USScIPHhnYOy"
      },
      "execution_count": 137,
      "outputs": []
    },
    {
      "cell_type": "code",
      "source": [
        "#Scene 12\n",
        "scene12 = pd.read_csv('/content/drive/MyDrive/CS485/Project/CS485_Edward3_12.csv')\n",
        "tokenizer.fit_on_texts(scene12)\n",
        "scene12 = tokenizer.texts_to_sequences(scene12)\n",
        "scene12 = pad_sequences(scene12, maxlen=max_length, truncating=trunc_type)\n",
        "\n",
        "out12rnn = modelrnn.predict(scene12)\n",
        "val12rnn = np.average(out12rnn)\n",
        "out12gru = modelgru.predict(scene12)\n",
        "val12gru = np.average(out12gru)"
      ],
      "metadata": {
        "id": "pUSLCt0bnYx8"
      },
      "execution_count": 138,
      "outputs": []
    },
    {
      "cell_type": "code",
      "source": [
        "#Scene 13\n",
        "scene13 = pd.read_csv('/content/drive/MyDrive/CS485/Project/CS485_Edward3_13.csv')\n",
        "tokenizer.fit_on_texts(scene13)\n",
        "scene13 = tokenizer.texts_to_sequences(scene13)\n",
        "scene13 = pad_sequences(scene13, maxlen=max_length, truncating=trunc_type)\n",
        "\n",
        "out13rnn = modelrnn.predict(scene13)\n",
        "val13rnn = np.average(out13rnn)\n",
        "out13gru = modelgru.predict(scene13)\n",
        "val13gru = np.average(out13gru)"
      ],
      "metadata": {
        "id": "7t_E1cBnnc7J"
      },
      "execution_count": 139,
      "outputs": []
    },
    {
      "cell_type": "code",
      "source": [
        "#Scene 14\n",
        "scene14 = pd.read_csv('/content/drive/MyDrive/CS485/Project/CS485_Edward3_14.csv')\n",
        "tokenizer.fit_on_texts(scene14)\n",
        "scene14 = tokenizer.texts_to_sequences(scene14)\n",
        "scene14 = pad_sequences(scene14, maxlen=max_length, truncating=trunc_type)\n",
        "\n",
        "out14rnn = modelrnn.predict(scene14)\n",
        "val14rnn = np.average(out14rnn)\n",
        "out14gru = modelgru.predict(scene14)\n",
        "val14gru = np.average(out14gru)"
      ],
      "metadata": {
        "id": "P_GAnt79nf5U"
      },
      "execution_count": 140,
      "outputs": []
    },
    {
      "cell_type": "code",
      "source": [
        "#Scene 15\n",
        "scene15 = pd.read_csv('/content/drive/MyDrive/CS485/Project/CS485_Edward3_15.csv')\n",
        "tokenizer.fit_on_texts(scene15)\n",
        "scene15 = tokenizer.texts_to_sequences(scene15)\n",
        "scene15 = pad_sequences(scene15, maxlen=max_length, truncating=trunc_type)\n",
        "\n",
        "out15rnn = modelrnn.predict(scene15)\n",
        "val15rnn = np.average(out15rnn)\n",
        "out15gru = modelgru.predict(scene15)\n",
        "val15gru = np.average(out15gru)"
      ],
      "metadata": {
        "id": "NeFbWE1qnkwg"
      },
      "execution_count": 141,
      "outputs": []
    },
    {
      "cell_type": "markdown",
      "source": [
        "# Plotting The Final Predictions"
      ],
      "metadata": {
        "id": "Il3F2c4yjJFt"
      }
    },
    {
      "cell_type": "code",
      "source": [
        "predictionsrnn = [val1rnn, val2rnn, val3rnn, val4rnn, val5rnn, val6rnn, val7rnn, val8rnn, val9rnn, val10rnn, val11rnn, val12rnn, val13rnn, val14rnn, val15rnn]\n",
        "predictionsgru = [val1gru, val2gru, val3gru, val4gru, val5gru, val6gru, val7gru, val8gru, val9gru, val10gru, val11gru, val12gru, val13gru, val14gru, val15gru]\n",
        "scenes = [1, 2, 3, 4, 5, 6, 7, 8, 9, 10, 11, 12, 13, 14, 15]\n",
        "midline = [0.5, 0.5, 0.5, 0.5, 0.5, 0.5, 0.5, 0.5, 0.5, 0.5, 0.5, 0.5, 0.5, 0.5, 0.5]\n",
        "\n",
        "plt.plot(scenes, predictionsrnn, 'b', label='Confidence')\n",
        "plt.plot(scenes, midline, 'r', label='Confidence')\n",
        "\n",
        "plt.title('Confidence of Each Scene Being Written by Shakespeare (RNN)')\n",
        "\n",
        "plt.figure()\n",
        "\n",
        "plt.plot(scenes, predictionsgru, 'b', label='Confidence')\n",
        "plt.plot(scenes, midline, 'r', label='Confidence')\n",
        "\n",
        "plt.title('Confidence of Each Scene Being Written by Shakespeare (GRU)')\n",
        "\n",
        "plt.figure()"
      ],
      "metadata": {
        "colab": {
          "base_uri": "https://localhost:8080/",
          "height": 581
        },
        "id": "Zkeu4rt0bzoI",
        "outputId": "511553ba-1a06-4e29-f68e-9d1cd075e47e"
      },
      "execution_count": 142,
      "outputs": [
        {
          "output_type": "execute_result",
          "data": {
            "text/plain": [
              "<Figure size 432x288 with 0 Axes>"
            ]
          },
          "metadata": {},
          "execution_count": 142
        },
        {
          "output_type": "display_data",
          "data": {
            "text/plain": [
              "<Figure size 432x288 with 1 Axes>"
            ],
            "image/png": "[encoded data removed]"
          },
          "metadata": {
            "needs_background": "light"
          }
        },
        {
          "output_type": "display_data",
          "data": {
            "text/plain": [
              "<Figure size 432x288 with 1 Axes>"
            ],
            "image/png": "[encoded data removed]"
          },
          "metadata": {
            "needs_background": "light"
          }
        },
        {
          "output_type": "display_data",
          "data": {
            "text/plain": [
              "<Figure size 432x288 with 0 Axes>"
            ]
          },
          "metadata": {}
        }
      ]
    }
  ],
  "metadata": {
    "colab": {
      "collapsed_sections": [],
      "name": "CS485_Project",
      "provenance": []
    },
    "kernelspec": {
      "display_name": "Python 3",
      "name": "python3"
    },
    "language_info": {
      "name": "python"
    }
  },
  "nbformat": 4,
  "nbformat_minor": 0
}